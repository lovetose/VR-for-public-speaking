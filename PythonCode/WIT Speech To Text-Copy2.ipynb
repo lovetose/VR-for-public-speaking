{
 "cells": [
  {
   "cell_type": "code",
   "execution_count": 1,
   "metadata": {},
   "outputs": [],
   "source": [
    "import pyaudio\n",
    "import sys\n",
    "import wave\n",
    "import requests\n",
    "import json\n",
    "import speech_recognition as sr\n",
    "mysp=__import__(\"my-voice-analysis\")"
   ]
  },
  {
   "cell_type": "code",
   "execution_count": 2,
   "metadata": {},
   "outputs": [],
   "source": [
    "import pyaudio\n",
    "import wave\n",
    " \n",
    "def record_audio(RECORD_SECONDS, WAVE_OUTPUT_FILENAME):\n",
    "    #--------- SETTING PARAMS FOR OUR AUDIO FILE ------------#\n",
    "    FORMAT = pyaudio.paInt16    # format of wave\n",
    "    CHANNELS = 2                # no. of audio channels\n",
    "    RATE = 44100                # frame rate\n",
    "    CHUNK = 1024                # frames per audio sample\n",
    "    #--------------------------------------------------------#\n",
    " \n",
    "    # creating PyAudio object\n",
    "    audio = pyaudio.PyAudio()\n",
    " \n",
    "    # open a new stream for microphone\n",
    "    # It creates a PortAudio Stream Wrapper class object\n",
    "    stream = audio.open(format=FORMAT,channels=CHANNELS,\n",
    "                        rate=RATE, input=True,\n",
    "                        frames_per_buffer=CHUNK)\n",
    " \n",
    "    #----------------- start of recording -------------------#\n",
    "    print(\"Listening...\")\n",
    " \n",
    "    # list to save all audio frames\n",
    "    frames = []\n",
    " \n",
    "    for i in range(int(RATE / CHUNK * RECORD_SECONDS)):\n",
    "        # read audio stream from microphone\n",
    "        data = stream.read(CHUNK)\n",
    "        # append audio data to frames list\n",
    "        frames.append(data)\n",
    " \n",
    "    #------------------ end of recording --------------------#\n",
    "    print(\"Finished recording.\")\n",
    " \n",
    "    stream.stop_stream()    # stop the stream object\n",
    "    stream.close()          # close the stream object\n",
    "    audio.terminate()       # terminate PortAudio\n",
    " \n",
    "    #------------------ saving audio ------------------------#\n",
    " \n",
    "    # create wave file object\n",
    "    waveFile = wave.open(WAVE_OUTPUT_FILENAME, 'wb')\n",
    " \n",
    "    # settings for wave file object\n",
    "    waveFile.setnchannels(CHANNELS)\n",
    "    waveFile.setsampwidth(audio.get_sample_size(FORMAT))\n",
    "    waveFile.setframerate(RATE)\n",
    "    waveFile.writeframes(b''.join(frames))\n",
    " \n",
    "    # closing the wave file object\n",
    "    waveFile.close()\n",
    " \n",
    "def read_audio(WAVE_FILENAME):\n",
    "    # function to read audio(wav) file\n",
    "    with open(WAVE_FILENAME, 'rb') as f:\n",
    "        audio = f.read()\n",
    "    return audio"
   ]
  },
  {
   "cell_type": "code",
   "execution_count": 3,
   "metadata": {},
   "outputs": [],
   "source": [
    "import requests\n",
    "import json\n",
    " \n",
    "# Wit speech API endpoint\n",
    "API_ENDPOINT = 'https://api.wit.ai/speech'\n",
    " \n",
    "# Wit.ai api access token\n",
    "wit_access_token = 'BBL4UDNORDRPGH5V5RDDHT5WRRQMWQQ7'\n",
    " \n",
    "def RecognizeSpeech(AUDIO_FILENAME, num_seconds = 5):\n",
    " \n",
    "    # record audio of specified length in specified audio file\n",
    "   # record_audio(num_seconds, AUDIO_FILENAME)\n",
    " \n",
    "    # reading audio\n",
    "    audio = read_audio(AUDIO_FILENAME)\n",
    " \n",
    "    # defining headers for HTTP request\n",
    "    headers = {'authorization': 'Bearer ' + wit_access_token,\n",
    "               'Content-Type': 'audio/wav'}\n",
    " \n",
    "    # making an HTTP post request\n",
    "    resp = requests.post(API_ENDPOINT, headers = headers,\n",
    "                         data = audio)\n",
    " \n",
    "    # converting response content to JSON format\n",
    "    data = json.loads(resp.content)\n",
    " \n",
    "    # get text from data\n",
    "    text = data['_text']\n",
    " \n",
    "    # return the text\n",
    "    return text\n"
   ]
  },
  {
   "cell_type": "markdown",
   "metadata": {},
   "source": [
    "record_audio(10,'Doctor.wav')"
   ]
  },
  {
   "cell_type": "markdown",
   "metadata": {},
   "source": [
    "text = RecognizeSpeech(\"Doctor.wav\")"
   ]
  },
  {
   "cell_type": "markdown",
   "metadata": {},
   "source": [
    "print(text)"
   ]
  },
  {
   "cell_type": "code",
   "execution_count": 4,
   "metadata": {},
   "outputs": [],
   "source": [
    "# -*- coding: utf-8 -*-\n",
    "'''recorder.py\n",
    "Provides WAV recording functionality via two approaches:\n",
    "\n",
    "Blocking mode (record for a set duration):\n",
    ">>> rec = Recorder(channels=2)\n",
    ">>> with rec.open('blocking.wav', 'wb') as recfile:\n",
    "...     recfile.record(duration=5.0)\n",
    "\n",
    "Non-blocking mode (start and stop recording):\n",
    ">>> rec = Recorder(channels=2)\n",
    ">>> with rec.open('nonblocking.wav', 'wb') as recfile2:\n",
    "...     recfile2.start_recording()\n",
    "...     time.sleep(5.0)\n",
    "...     recfile2.stop_recording()\n",
    "'''\n",
    "import pyaudio\n",
    "import wave\n",
    "\n",
    "class Recorder(object):\n",
    "    '''A recorder class for recording audio to a WAV file.\n",
    "    Records in mono by default.\n",
    "    '''\n",
    "\n",
    "    def __init__(self, channels=1, rate=44100, frames_per_buffer=1024):\n",
    "        self.channels = channels\n",
    "        self.rate = rate\n",
    "        self.frames_per_buffer = frames_per_buffer\n",
    "\n",
    "    def open(self, fname, mode='wb'):\n",
    "        return RecordingFile(fname, mode, self.channels, self.rate,self.frames_per_buffer)\n",
    "\n",
    "class RecordingFile(object):\n",
    "    def __init__(self, fname, mode, channels, \n",
    "                rate, frames_per_buffer):\n",
    "        self.fname = fname\n",
    "        self.mode = mode\n",
    "        self.channels = channels\n",
    "        self.rate = rate\n",
    "        self.frames_per_buffer = frames_per_buffer\n",
    "        self._pa = pyaudio.PyAudio()\n",
    "        self.wavefile = self._prepare_file(self.fname, self.mode)\n",
    "        self._stream = None\n",
    "\n",
    "    def __enter__(self):\n",
    "        return self\n",
    "\n",
    "    def __exit__(self, exception, value, traceback):\n",
    "        self.close()\n",
    "\n",
    "    def record(self, duration):\n",
    "        # Use a stream with no callback function in blocking mode\n",
    "        self._stream = self._pa.open(format=pyaudio.paInt16,\n",
    "                                        channels=self.channels,\n",
    "                                        rate=self.rate,\n",
    "                                        input=True,\n",
    "                                        frames_per_buffer=self.frames_per_buffer)\n",
    "        for _ in range(int(self.rate / self.frames_per_buffer * duration)):\n",
    "            audio = self._stream.read(self.frames_per_buffer)\n",
    "            self.wavefile.writeframes(audio)\n",
    "        return None\n",
    "\n",
    "    def start_recording(self):\n",
    "        # Use a stream with a callback in non-blocking mode\n",
    "        self._stream = self._pa.open(format=pyaudio.paInt16,\n",
    "                                        channels=self.channels,\n",
    "                                        rate=self.rate,\n",
    "                                        input=True,\n",
    "                                        frames_per_buffer=self.frames_per_buffer,\n",
    "                                        stream_callback=self.get_callback())\n",
    "        self._stream.start_stream()\n",
    "        return self\n",
    "\n",
    "    def stop_recording(self):\n",
    "        self._stream.stop_stream()\n",
    "        return self\n",
    "\n",
    "    def get_callback(self):\n",
    "        def callback(in_data, frame_count, time_info, status):\n",
    "            self.wavefile.writeframes(in_data)\n",
    "            return in_data, pyaudio.paContinue\n",
    "        return callback\n",
    "\n",
    "\n",
    "    def close(self):\n",
    "        self._stream.close()\n",
    "        self._pa.terminate()\n",
    "        self.wavefile.close()\n",
    "\n",
    "    def _prepare_file(self, fname, mode='wb'):\n",
    "        wavefile = wave.open(fname, mode)\n",
    "        wavefile.setnchannels(self.channels)\n",
    "        wavefile.setsampwidth(self._pa.get_sample_size(pyaudio.paInt16))\n",
    "        wavefile.setframerate(self.rate)\n",
    "        return wavefile"
   ]
  },
  {
   "cell_type": "code",
   "execution_count": 5,
   "metadata": {},
   "outputs": [
    {
     "name": "stdout",
     "output_type": "stream",
     "text": [
      "finish_record: nonblocking1.wav\n",
      " \n",
      "finish_record: nonblocking2.wav\n",
      "yes baby \n"
     ]
    }
   ],
   "source": [
    "import time\n",
    "\n",
    "sentence = \"\"\n",
    "i = 1\n",
    "while i <= 2:\n",
    "    name = \"nonblocking\" + str(i) + \".wav\"\n",
    "    rec = Recorder(channels=2)\n",
    "    with rec.open(name, 'wb') as recfile2:\n",
    "        recfile2.start_recording()\n",
    "        time.sleep(3.0)\n",
    "        recfile2.stop_recording()\n",
    "        print 'finish_record: '+name\n",
    "        a = RecognizeSpeech(name) + \" \"\n",
    "        print a\n",
    "    sentence = sentence + a\n",
    "    i = i+1"
   ]
  },
  {
   "cell_type": "code",
   "execution_count": 5,
   "metadata": {},
   "outputs": [],
   "source": [
    "def recording():\n",
    "    status = True\n",
    "    while status:\n",
    "        recfile2.start_recording()\n",
    "        if(Input.GetKeyDown(KeyCode.Space)):\n",
    "            recfile2.stop_recording()\n",
    "            status = False"
   ]
  },
  {
   "cell_type": "code",
   "execution_count": 6,
   "metadata": {},
   "outputs": [
    {
     "name": "stdout",
     "output_type": "stream",
     "text": [
      " yes baby \n"
     ]
    }
   ],
   "source": [
    "print sentence"
   ]
  },
  {
   "cell_type": "code",
   "execution_count": 7,
   "metadata": {},
   "outputs": [
    {
     "name": "stdout",
     "output_type": "stream",
     "text": [
      "Listening...\n",
      "Finished recording.\n"
     ]
    }
   ],
   "source": [
    "record_audio(10,'Doctor.wav')"
   ]
  },
  {
   "cell_type": "code",
   "execution_count": 9,
   "metadata": {},
   "outputs": [
    {
     "data": {
      "text/plain": [
       "u'yo are morning how are you today'"
      ]
     },
     "execution_count": 9,
     "metadata": {},
     "output_type": "execute_result"
    }
   ],
   "source": [
    "\n",
    "RecognizeSpeech(\"Doctor.wav\")"
   ]
  },
  {
   "cell_type": "code",
   "execution_count": null,
   "metadata": {},
   "outputs": [],
   "source": []
  }
 ],
 "metadata": {
  "kernelspec": {
   "display_name": "Python 2",
   "language": "python",
   "name": "python2"
  },
  "language_info": {
   "codemirror_mode": {
    "name": "ipython",
    "version": 2
   },
   "file_extension": ".py",
   "mimetype": "text/x-python",
   "name": "python",
   "nbconvert_exporter": "python",
   "pygments_lexer": "ipython2",
   "version": "2.7.16"
  }
 },
 "nbformat": 4,
 "nbformat_minor": 2
}
