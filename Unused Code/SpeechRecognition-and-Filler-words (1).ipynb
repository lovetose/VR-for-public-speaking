{
 "cells": [
  {
   "cell_type": "code",
   "execution_count": 98,
   "metadata": {},
   "outputs": [
    {
     "name": "stdout",
     "output_type": "stream",
     "text": [
      "55555\n"
     ]
    }
   ],
   "source": [
    "import pyaudio\n",
    "import sys\n",
    "import wave\n",
    "\n",
    "mysp=__import__(\"my-voice-analysis\")\n",
    "print(55555)"
   ]
  },
  {
   "cell_type": "code",
   "execution_count": 67,
   "metadata": {},
   "outputs": [
    {
     "name": "stdout",
     "output_type": "stream",
     "text": [
      "* recording\n",
      "* done recording\n"
     ]
    }
   ],
   "source": [
    "import pyaudio\n",
    "import wave\n",
    "\n",
    "CHUNK = 1024\n",
    "FORMAT = pyaudio.paInt16\n",
    "CHANNELS = 2\n",
    "RATE = 44100\n",
    "RECORD_SECONDS = 10\n",
    "WAVE_OUTPUT_FILENAME = \"output.wav\"\n",
    "\n",
    "p = pyaudio.PyAudio()\n",
    "\n",
    "stream = p.open(format=FORMAT,\n",
    "                channels=CHANNELS,\n",
    "                rate=RATE,\n",
    "                input=True,\n",
    "                frames_per_buffer=CHUNK)\n",
    "\n",
    "print(\"* recording\")\n",
    "\n",
    "frames = []\n",
    "\n",
    "for i in range(0, int(RATE / CHUNK * RECORD_SECONDS)):\n",
    "    data = stream.read(CHUNK)\n",
    "    frames.append(data)\n",
    "\n",
    "print(\"* done recording\")\n",
    "\n",
    "stream.stop_stream()\n",
    "stream.close()\n",
    "p.terminate()\n",
    "\n",
    "wf = wave.open(WAVE_OUTPUT_FILENAME, 'wb')\n",
    "wf.setnchannels(CHANNELS)\n",
    "wf.setsampwidth(p.get_sample_size(FORMAT))\n",
    "wf.setframerate(RATE)\n",
    "wf.writeframes(b''.join(frames))\n",
    "wf.close()"
   ]
  },
  {
   "cell_type": "code",
   "execution_count": 21,
   "metadata": {},
   "outputs": [
    {
     "name": "stdout",
     "output_type": "stream",
     "text": [
      "[]\n",
      "a female, mood of speech: Reading, p-value/sample size= :0.00 5\n",
      "[]\n",
      "number_of_pauses= 4\n",
      "555\n"
     ]
    }
   ],
   "source": [
    "p=\"output\" # Audio File title\n",
    "c=r\"C:\\Users\\Asus\\Python\" # Path to the Audio_File directory (Python 3.7)\n",
    "mysp.myspgend(p,c)\n",
    "mysp.mysppaus(p,c)\n",
    "print(555)"
   ]
  },
  {
   "cell_type": "code",
   "execution_count": 106,
   "metadata": {},
   "outputs": [
    {
     "name": "stdout",
     "output_type": "stream",
     "text": [
      "Transcription: I love love love love love you so so so so so so so so so so so so much\n",
      "[('I', 1), ('much', 1), ('you', 1), ('love', 5), ('so', 12)]\n"
     ]
    }
   ],
   "source": [
    "import speech_recognition as sr\n",
    "\n",
    "r = sr.Recognizer()\n",
    "with sr.WavFile(\"output.wav\") as source:              # ใช้ \"test.wav\"  เป็นแหล่งให้ข้อมูลเสียง\n",
    "    audio = r.record(source)                        # ส่งข้อมูลเสียงจากไฟล์\n",
    "try:\n",
    "    print(\"Transcription: \" + r.recognize_google(audio))   # แสดงข้อความจากเสียงด้วย Google Speech Recognition\n",
    "except sr.RequestError as e:                                 # ประมวลผลแล้วไม่รู้จักหรือเข้าใจเสียง\n",
    "    print(\"Could not understand audio\")\n",
    "text = r.recognize_google(audio)\n",
    "storeText = text\n",
    "\n",
    "\n",
    "data = text\n",
    "words = data.split()\n",
    "\n",
    "unwanted_chars = \".,-_\"\n",
    "wordfreq = {}\n",
    "for raw_word in words:\n",
    "    word = raw_word.strip(unwanted_chars)\n",
    "    if word not in wordfreq:\n",
    "        wordfreq[word] = 0 \n",
    "    wordfreq[word] += 1\n",
    "    num = wordfreq[word]\n",
    "    \n",
    "    \n",
    "print(sorted(wordfreq.items(), key = \n",
    "             lambda kv:(kv[1], kv[0]))) \n",
    "    \n",
    "\n",
    "    \n",
    "\n",
    "\n",
    "#def freq(str): \n",
    "  \n",
    "    # break the string into list of words  \n",
    "  #  str = str.split()          \n",
    " #   str2 = [] \n",
    "  \n",
    "    # loop till string values present in list str \n",
    "   # for i in str:              \n",
    "  \n",
    "        # checking for the duplicacy \n",
    "        #if i not in str2: \n",
    "  \n",
    "            # insert value in str2 \n",
    "  #          str2.append(i) \n",
    "        \n",
    "   # print(str2)\n",
    "            \n",
    "       # str2.sort()\n",
    "    #hashtable = {}\n",
    "    #for i in range(len(str2)):\n",
    "     #   hashtable[i] = str2[i]\n",
    "        \n",
    "    #print(hashtable)\n",
    "    \n",
    "    \n",
    "    #for word in str2: \n",
    "        #print(word)\n",
    "     #   try:\n",
    "      #      hashtable[word] = hashtable[word] + 1\n",
    "       # except KeyError:\n",
    "        #    hashtable.setdefault(word,0)\n",
    "        # count the frequency of each word(present  \n",
    "        # in str2) in str and print \n",
    "        #str2.sort()\n",
    "        #print('Frequency of', str2[i], 'is :', str.count(str2[i]))\n",
    "        #hashj = {str2[i] : str.count(str2[i])}\n",
    "        #hashj = sorted(hashj.items(), key=lambda x: x[1], reverse=True)\n",
    "        #print(hashj)\n",
    "        \n",
    "        #print(hashj)\n",
    "    \n",
    "    \n",
    "    #print(sorted(hashj.items(), key = lambda kv:(kv[1], kv[0])))\n",
    "    #print(hashj)\n",
    "        \n",
    "#freq(text)"
   ]
  },
  {
   "cell_type": "code",
   "execution_count": null,
   "metadata": {},
   "outputs": [],
   "source": []
  }
 ],
 "metadata": {
  "kernelspec": {
   "display_name": "Python 3",
   "language": "python",
   "name": "python3"
  },
  "language_info": {
   "codemirror_mode": {
    "name": "ipython",
    "version": 3
   },
   "file_extension": ".py",
   "mimetype": "text/x-python",
   "name": "python",
   "nbconvert_exporter": "python",
   "pygments_lexer": "ipython3",
   "version": "3.7.3"
  }
 },
 "nbformat": 4,
 "nbformat_minor": 2
}
